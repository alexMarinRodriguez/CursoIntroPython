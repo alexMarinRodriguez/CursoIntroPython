{
 "cells": [
  {
   "cell_type": "code",
   "execution_count": 1,
   "metadata": {},
   "outputs": [
    {
     "name": "stdout",
     "output_type": "stream",
     "text": [
      "Un asteroide viene en camino\n"
     ]
    }
   ],
   "source": [
    "A = 49\n",
    "if A >25:\n",
    "    print(\"Un asteroide viene en camino\")  \n",
    "else:\n",
    "        print(\"Todo bien\")\n",
    "    "
   ]
  },
  {
   "cell_type": "code",
   "execution_count": 4,
   "metadata": {},
   "outputs": [
    {
     "name": "stdout",
     "output_type": "stream",
     "text": [
      "Hay una luz\n"
     ]
    }
   ],
   "source": [
    "A = 19\n",
    "\n",
    "if A == 20:\n",
    "  print(\"Hay una luz\")\n",
    "elif A > 20:\n",
    "  print(\"Hay una luz\")\n",
    "else:\n",
    "  print(\"No hay nada\")"
   ]
  },
  {
   "cell_type": "code",
   "execution_count": 5,
   "metadata": {},
   "outputs": [
    {
     "name": "stdout",
     "output_type": "stream",
     "text": [
      "Hay una luz\n"
     ]
    }
   ],
   "source": [
    "A = 25\n",
    "T = 40\n",
    "if A > 25 and T> 25:\n",
    "    print(\"se acerca un asteroide\")\n",
    "elif A >= 20:\n",
    "    print(\"Hay una luz\")\n",
    "elif T< 25:\n",
    "    print(\"No hay nada\")\n",
    "else:\n",
    "    print(\"No hay nada\")"
   ]
  }
 ],
 "metadata": {
  "interpreter": {
   "hash": "df59b04e9978eb50557051abc32c5ae29d7f79906771ab2cd828a013e4cdf466"
  },
  "kernelspec": {
   "display_name": "Python 3.10.2 64-bit",
   "language": "python",
   "name": "python3"
  },
  "language_info": {
   "codemirror_mode": {
    "name": "ipython",
    "version": 3
   },
   "file_extension": ".py",
   "mimetype": "text/x-python",
   "name": "python",
   "nbconvert_exporter": "python",
   "pygments_lexer": "ipython3",
   "version": "3.10.2"
  },
  "orig_nbformat": 4
 },
 "nbformat": 4,
 "nbformat_minor": 2
}
