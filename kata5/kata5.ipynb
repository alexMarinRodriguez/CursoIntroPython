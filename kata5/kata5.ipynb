{
 "cells": [
  {
   "cell_type": "code",
   "execution_count": 3,
   "metadata": {},
   "outputs": [
    {
     "name": "stdout",
     "output_type": "stream",
     "text": [
      "distancia 628949330\n",
      "distancia en millas 390577533.93\n"
     ]
    }
   ],
   "source": [
    "T = 149597870\n",
    "J = 778547200\n",
    "\n",
    "D = J - T;\n",
    "\n",
    "D_mi = D * 0.621;\n",
    "\n",
    "\n",
    "print(\"distancia\", D)\n",
    "print(\"distancia en millas\", D_mi)"
   ]
  },
  {
   "cell_type": "code",
   "execution_count": 6,
   "metadata": {},
   "outputs": [
    {
     "name": "stdout",
     "output_type": "stream",
     "text": [
      "629000000\n",
      "390609000.0\n"
     ]
    }
   ],
   "source": [
    "planeta1 = input(\"introduce la distancia del sol para el primer planeta en KM\")\n",
    "planeta2 = input(\"introduce la distancia del sol del segundo planeta en KM\")\n",
    "\n",
    "planeta1 = int(planeta1)\n",
    "planeta2 = int(planeta2)\n",
    "\n",
    "D = planeta2 - planeta1\n",
    "print(D)\n",
    "\n",
    "D_mi = D * 0.621\n",
    "print(D_mi)"
   ]
  }
 ],
 "metadata": {
  "interpreter": {
   "hash": "df59b04e9978eb50557051abc32c5ae29d7f79906771ab2cd828a013e4cdf466"
  },
  "kernelspec": {
   "display_name": "Python 3.10.2 64-bit",
   "language": "python",
   "name": "python3"
  },
  "language_info": {
   "codemirror_mode": {
    "name": "ipython",
    "version": 3
   },
   "file_extension": ".py",
   "mimetype": "text/x-python",
   "name": "python",
   "nbconvert_exporter": "python",
   "pygments_lexer": "ipython3",
   "version": "3.10.2"
  },
  "orig_nbformat": 4
 },
 "nbformat": 4,
 "nbformat_minor": 2
}
