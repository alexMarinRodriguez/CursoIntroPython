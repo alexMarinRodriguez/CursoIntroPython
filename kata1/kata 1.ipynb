{
  "cells": [
    {
      "cell_type": "code",
      "execution_count": 4,
      "metadata": {},
      "outputs": [
        {
          "name": "stdout",
          "output_type": "stream",
          "text": [
            "Today's date is: 2022-02-18\n"
          ]
        }
      ],
      "source": [
        "from datetime import date\n",
        "\n",
        "print(\"Today's date is: \" + str(date.today()))"
      ]
    },
    {
      "cell_type": "code",
      "execution_count": null,
      "metadata": {},
      "outputs": [],
      "source": [
        "parsec = 11\n",
        "lightyears = 3.26156 * parsec\n",
        "\n",
        "print(str(parsec) + \" parsec, is \" + str(lightyears) + \" lightyears\")"
      ]
    }
  ],
  "metadata": {
    "interpreter": {
      "hash": "df59b04e9978eb50557051abc32c5ae29d7f79906771ab2cd828a013e4cdf466"
    },
    "kernel_info": {
      "name": "conda-env-py37_default-py"
    },
    "kernelspec": {
      "display_name": "py37_default",
      "language": "python",
      "name": "python3"
    },
    "language_info": {
      "codemirror_mode": {
        "name": "ipython",
        "version": 3
      },
      "file_extension": ".py",
      "mimetype": "text/x-python",
      "name": "python",
      "nbconvert_exporter": "python",
      "pygments_lexer": "ipython3",
      "version": "3.10.2"
    },
    "nteract": {
      "version": "nteract-front-end@1.0.0"
    },
    "orig_nbformat": 4
  },
  "nbformat": 4,
  "nbformat_minor": 2
}
